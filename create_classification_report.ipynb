{
 "cells": [
  {
   "cell_type": "code",
   "execution_count": 2,
   "metadata": {},
   "outputs": [],
   "source": [
    "from keras.utils import np_utils\n",
    "from sklearn.model_selection import train_test_split\n",
    "import os\n",
    "from sklearn.metrics import classification_report\n",
    "from sklearn.preprocessing import LabelEncoder\n",
    "from imageProcessing.ImageToArrayPreprocessor import ImageToArrayPreprocessor\n",
    "from imageProcessing.SimpleDatasetLoader import SimpleDatasetLoader\n",
    "from imageProcessing.aspectawarepreprocessor import AspectAwarePreprocessor\n",
    "from keras.models import load_model\n",
    "import pandas as pd\n"
   ]
  },
  {
   "cell_type": "code",
   "execution_count": 4,
   "metadata": {},
   "outputs": [
    {
     "name": "stdout",
     "output_type": "stream",
     "text": [
      "[INFO] processed 500/2370\n",
      "[INFO] processed 1000/2370\n",
      "[INFO] processed 1500/2370\n",
      "[INFO] processed 2000/2370\n"
     ]
    }
   ],
   "source": [
    "imagePaths = list()\n",
    "label = list()\n",
    "labels = list()\n",
    "\n",
    "# walk through the directory to get all the images paths\n",
    "for x in os.walk(\"ImageDownload/ImageDirectory/\"):\n",
    "    for filename in x[2]:\n",
    "        filePath = f'{x[0]}/{filename}'\n",
    "        imagePaths.append(filePath)\n",
    "\n",
    "    s_index = x[0].rindex('/')\n",
    "    # labels of classes in folder\n",
    "    label.append(x[0][s_index + 1:])\n",
    "\n",
    "# Intialize Preprocessor for image\n",
    "# AspectAwarePreprocessor crop the image with respect to short dimensions\n",
    "aap = AspectAwarePreprocessor(64, 64)\n",
    "# ImageToArrayPreprocessor convert the image to array\n",
    "iap = ImageToArrayPreprocessor()\n",
    "\n",
    "# SimpleDatasetLoader convert image to array and process the image as per given processor\n",
    "sdl = SimpleDatasetLoader(preprocessors=[aap, iap])\n",
    "(data, labels) = sdl.load(imagePaths, verbose=500)\n",
    "data = data.astype(\"float\") / 255.0\n",
    "\n",
    "# convert the labels from integers to vectors\n",
    "le = LabelEncoder().fit(labels)\n",
    "labels = np_utils.to_categorical(le.transform(labels), len(le.classes_))\n",
    "(trainX, testX, trainY, testY) = train_test_split(data,\n",
    "                                                  labels, test_size=0.20, stratify=labels, random_state=42)\n",
    "# load model\n",
    "model = load_model(\"mask_googleInception_model.h5\")\n",
    "# load model\n",
    "predictions = model.predict(testX, batch_size=64)\n",
    "report = classification_report(testY.argmax(axis=1), predictions.argmax(axis=1),\n",
    "                               target_names=le.classes_, output_dict=True)\n",
    "# saving the classification report in csv format\n",
    "df = pd.DataFrame(report).transpose()\n",
    "df.to_csv(\"classification_report_lab.csv\")"
   ]
  },
  {
   "cell_type": "code",
   "execution_count": 5,
   "metadata": {},
   "outputs": [
    {
     "data": {
      "text/html": [
       "<div>\n",
       "<style scoped>\n",
       "    .dataframe tbody tr th:only-of-type {\n",
       "        vertical-align: middle;\n",
       "    }\n",
       "\n",
       "    .dataframe tbody tr th {\n",
       "        vertical-align: top;\n",
       "    }\n",
       "\n",
       "    .dataframe thead th {\n",
       "        text-align: right;\n",
       "    }\n",
       "</style>\n",
       "<table border=\"1\" class=\"dataframe\">\n",
       "  <thead>\n",
       "    <tr style=\"text-align: right;\">\n",
       "      <th></th>\n",
       "      <th>Unnamed: 0</th>\n",
       "      <th>precision</th>\n",
       "      <th>recall</th>\n",
       "      <th>f1-score</th>\n",
       "      <th>support</th>\n",
       "    </tr>\n",
       "  </thead>\n",
       "  <tbody>\n",
       "    <tr>\n",
       "      <th>0</th>\n",
       "      <td>with_mask</td>\n",
       "      <td>0.989247</td>\n",
       "      <td>0.992806</td>\n",
       "      <td>0.991023</td>\n",
       "      <td>278.000000</td>\n",
       "    </tr>\n",
       "    <tr>\n",
       "      <th>1</th>\n",
       "      <td>without_mask</td>\n",
       "      <td>0.989744</td>\n",
       "      <td>0.984694</td>\n",
       "      <td>0.987212</td>\n",
       "      <td>196.000000</td>\n",
       "    </tr>\n",
       "    <tr>\n",
       "      <th>2</th>\n",
       "      <td>accuracy</td>\n",
       "      <td>0.989451</td>\n",
       "      <td>0.989451</td>\n",
       "      <td>0.989451</td>\n",
       "      <td>0.989451</td>\n",
       "    </tr>\n",
       "    <tr>\n",
       "      <th>3</th>\n",
       "      <td>macro avg</td>\n",
       "      <td>0.989495</td>\n",
       "      <td>0.988750</td>\n",
       "      <td>0.989118</td>\n",
       "      <td>474.000000</td>\n",
       "    </tr>\n",
       "    <tr>\n",
       "      <th>4</th>\n",
       "      <td>weighted avg</td>\n",
       "      <td>0.989453</td>\n",
       "      <td>0.989451</td>\n",
       "      <td>0.989447</td>\n",
       "      <td>474.000000</td>\n",
       "    </tr>\n",
       "  </tbody>\n",
       "</table>\n",
       "</div>"
      ],
      "text/plain": [
       "     Unnamed: 0  precision    recall  f1-score     support\n",
       "0     with_mask   0.989247  0.992806  0.991023  278.000000\n",
       "1  without_mask   0.989744  0.984694  0.987212  196.000000\n",
       "2      accuracy   0.989451  0.989451  0.989451    0.989451\n",
       "3     macro avg   0.989495  0.988750  0.989118  474.000000\n",
       "4  weighted avg   0.989453  0.989451  0.989447  474.000000"
      ]
     },
     "execution_count": 5,
     "metadata": {},
     "output_type": "execute_result"
    }
   ],
   "source": [
    "pd.read_csv(\"classification_report_lab.csv\")"
   ]
  },
  {
   "cell_type": "code",
   "execution_count": null,
   "metadata": {},
   "outputs": [],
   "source": []
  }
 ],
 "metadata": {
  "kernelspec": {
   "display_name": "Python 3",
   "language": "python",
   "name": "python3"
  },
  "language_info": {
   "codemirror_mode": {
    "name": "ipython",
    "version": 3
   },
   "file_extension": ".py",
   "mimetype": "text/x-python",
   "name": "python",
   "nbconvert_exporter": "python",
   "pygments_lexer": "ipython3",
   "version": "3.8.2"
  }
 },
 "nbformat": 4,
 "nbformat_minor": 4
}
